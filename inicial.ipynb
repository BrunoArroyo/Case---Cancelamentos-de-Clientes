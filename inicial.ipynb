version https://git-lfs.github.com/spec/v1
oid sha256:2b82957a21a6323f05164ce2eba9a31384e2bc3ca722c785123af8aed05a8024
size 152276602
